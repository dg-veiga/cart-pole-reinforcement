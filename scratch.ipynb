{
 "cells": [
  {
   "cell_type": "code",
   "execution_count": 10,
   "metadata": {},
   "outputs": [],
   "source": [
    "import gym\n",
    "import time\n",
    "import numpy as np\n",
    "import pandas as pd\n",
    "from data_structure import TrainingData\n",
    "from tqdm import tqdm\n",
    "\n",
    "import warnings\n",
    "warnings.filterwarnings(\"ignore\")\n"
   ]
  },
  {
   "cell_type": "markdown",
   "metadata": {},
   "source": [
    "## Training:"
   ]
  },
  {
   "cell_type": "code",
   "execution_count": 54,
   "metadata": {},
   "outputs": [
    {
     "name": "stderr",
     "output_type": "stream",
     "text": [
      "100%|██████████| 200/200 [00:01<00:00, 130.89it/s]"
     ]
    },
    {
     "name": "stdout",
     "output_type": "stream",
     "text": [
      "Elapsed data gathering time: 1.5360040664672852\n"
     ]
    },
    {
     "name": "stderr",
     "output_type": "stream",
     "text": [
      "\n"
     ]
    }
   ],
   "source": [
    "NUM_TRIES = 200\n",
    "\n",
    "td = TrainingData()\n",
    "\n",
    "env = gym.make('CartPole-v1')\n",
    "env.action_space.seed(42)\n",
    "\n",
    "observation, info = env.reset(seed=42, return_info=True)\n",
    "\n",
    "reward_sum = 0\n",
    "\n",
    "start = time.time()\n",
    "\n",
    "_try = 0\n",
    "pbar = tqdm(total=NUM_TRIES)\n",
    "while _try < NUM_TRIES:\n",
    "    action = env.action_space.sample()\n",
    "    observation, reward, done, info = env.step(action=action)\n",
    "    reward_sum += reward\n",
    "\n",
    "    td.add_step(observation=observation, action=action)\n",
    "    \n",
    "    if done:\n",
    "        observation, info = env.reset(return_info=True)\n",
    "        td.close_try(reward_sum, _try)\n",
    "        reward_sum = 0\n",
    "        _try += 1\n",
    "        pbar.update(1)\n",
    "pbar.close()\n",
    "env.close()\n",
    "\n",
    "print(f\"Elapsed data gathering time: {time.time() - start}\")"
   ]
  },
  {
   "cell_type": "code",
   "execution_count": 55,
   "metadata": {},
   "outputs": [],
   "source": [
    "data = td.get_training_data(as_dataframe=True)"
   ]
  },
  {
   "cell_type": "code",
   "execution_count": null,
   "metadata": {},
   "outputs": [],
   "source": []
  },
  {
   "cell_type": "markdown",
   "metadata": {},
   "source": [
    "# Model"
   ]
  },
  {
   "cell_type": "code",
   "execution_count": 56,
   "metadata": {},
   "outputs": [],
   "source": [
    "from sklearn.neural_network import MLPClassifier"
   ]
  },
  {
   "cell_type": "code",
   "execution_count": 76,
   "metadata": {},
   "outputs": [],
   "source": [
    "model = MLPClassifier(hidden_layer_sizes=(100, 100), random_state=42)"
   ]
  },
  {
   "cell_type": "code",
   "execution_count": 81,
   "metadata": {},
   "outputs": [
    {
     "name": "stderr",
     "output_type": "stream",
     "text": [
      "100%|██████████| 50/50 [02:12<00:00,  2.64s/it]\n"
     ]
    }
   ],
   "source": [
    "for _try in tqdm(range(50)):\n",
    "    chunk = data[data['Try Index'] == _try]\n",
    "    observation_arr = []\n",
    "    action_arr = []\n",
    "    for i in range(len(chunk)-1):\n",
    "        observation_arr.append(list(chunk.iloc[i][['Cart Position', 'Cart Velocity', 'Pole Angle', 'Pole Angular Velocity']]))\n",
    "        error_now = np.abs(chunk.iloc[i]['Pole Angle'])\n",
    "        error_after = np.abs(chunk.iloc[i+1]['Pole Angle'])\n",
    "        action = chunk.iloc[i]['Action']\n",
    "        if error_after > error_now:\n",
    "            action = 1.0 if action == 0.0 else 0.0\n",
    "        action_arr.append(action)\n",
    "    model.fit(observation_arr, action_arr)"
   ]
  },
  {
   "cell_type": "code",
   "execution_count": 83,
   "metadata": {},
   "outputs": [
    {
     "name": "stdout",
     "output_type": "stream",
     "text": [
      "Elapsed data gathering time: 0.5280027389526367\n"
     ]
    }
   ],
   "source": [
    "td2 = TrainingData()\n",
    "\n",
    "env = gym.make('CartPole-v1')\n",
    "env.action_space.seed(42)\n",
    "\n",
    "observation, info = env.reset(seed=42, return_info=True)\n",
    "\n",
    "reward_sum = 0\n",
    "\n",
    "start = time.time()\n",
    "\n",
    "done = False\n",
    "t = 0\n",
    "while t < 1000 or not done:\n",
    "    action = int(model.predict([observation])[0])\n",
    "    observation, reward, done, info = env.step(action=action)\n",
    "    reward_sum += reward\n",
    "\n",
    "    td2.add_step(observation=observation, action=action)\n",
    "    \n",
    "    if done:\n",
    "        observation, info = env.reset(return_info=True)\n",
    "        td2.close_try(reward_sum, _try)\n",
    "        reward_sum = 0\n",
    "\n",
    "    t += 1\n",
    "        \n",
    "env.close()\n",
    "\n",
    "print(f\"Elapsed data gathering time: {time.time() - start}\")"
   ]
  },
  {
   "cell_type": "code",
   "execution_count": 84,
   "metadata": {},
   "outputs": [],
   "source": [
    "result = td2.get_training_data(as_dataframe=True)"
   ]
  },
  {
   "cell_type": "code",
   "execution_count": 85,
   "metadata": {},
   "outputs": [
    {
     "data": {
      "text/html": [
       "<div>\n",
       "<style scoped>\n",
       "    .dataframe tbody tr th:only-of-type {\n",
       "        vertical-align: middle;\n",
       "    }\n",
       "\n",
       "    .dataframe tbody tr th {\n",
       "        vertical-align: top;\n",
       "    }\n",
       "\n",
       "    .dataframe thead th {\n",
       "        text-align: right;\n",
       "    }\n",
       "</style>\n",
       "<table border=\"1\" class=\"dataframe\">\n",
       "  <thead>\n",
       "    <tr style=\"text-align: right;\">\n",
       "      <th></th>\n",
       "      <th>Cart Position</th>\n",
       "      <th>Cart Velocity</th>\n",
       "      <th>Pole Angle</th>\n",
       "      <th>Pole Angular Velocity</th>\n",
       "      <th>Action</th>\n",
       "      <th>Reward</th>\n",
       "      <th>Try Index</th>\n",
       "    </tr>\n",
       "  </thead>\n",
       "  <tbody>\n",
       "    <tr>\n",
       "      <th>0</th>\n",
       "      <td>0.027273</td>\n",
       "      <td>0.188478</td>\n",
       "      <td>0.036255</td>\n",
       "      <td>-0.261420</td>\n",
       "      <td>1.0</td>\n",
       "      <td>35.0</td>\n",
       "      <td>49.0</td>\n",
       "    </tr>\n",
       "    <tr>\n",
       "      <th>1</th>\n",
       "      <td>0.031043</td>\n",
       "      <td>0.383064</td>\n",
       "      <td>0.031026</td>\n",
       "      <td>-0.542451</td>\n",
       "      <td>1.0</td>\n",
       "      <td>35.0</td>\n",
       "      <td>49.0</td>\n",
       "    </tr>\n",
       "    <tr>\n",
       "      <th>2</th>\n",
       "      <td>0.038704</td>\n",
       "      <td>0.577736</td>\n",
       "      <td>0.020177</td>\n",
       "      <td>-0.825199</td>\n",
       "      <td>1.0</td>\n",
       "      <td>35.0</td>\n",
       "      <td>49.0</td>\n",
       "    </tr>\n",
       "    <tr>\n",
       "      <th>3</th>\n",
       "      <td>0.050259</td>\n",
       "      <td>0.382344</td>\n",
       "      <td>0.003673</td>\n",
       "      <td>-0.526239</td>\n",
       "      <td>0.0</td>\n",
       "      <td>35.0</td>\n",
       "      <td>49.0</td>\n",
       "    </tr>\n",
       "    <tr>\n",
       "      <th>4</th>\n",
       "      <td>0.057906</td>\n",
       "      <td>0.187171</td>\n",
       "      <td>-0.006852</td>\n",
       "      <td>-0.232401</td>\n",
       "      <td>0.0</td>\n",
       "      <td>35.0</td>\n",
       "      <td>49.0</td>\n",
       "    </tr>\n",
       "    <tr>\n",
       "      <th>...</th>\n",
       "      <td>...</td>\n",
       "      <td>...</td>\n",
       "      <td>...</td>\n",
       "      <td>...</td>\n",
       "      <td>...</td>\n",
       "      <td>...</td>\n",
       "      <td>...</td>\n",
       "    </tr>\n",
       "    <tr>\n",
       "      <th>24766</th>\n",
       "      <td>0.125764</td>\n",
       "      <td>0.633944</td>\n",
       "      <td>-0.131339</td>\n",
       "      <td>-1.108228</td>\n",
       "      <td>1.0</td>\n",
       "      <td>19.0</td>\n",
       "      <td>49.0</td>\n",
       "    </tr>\n",
       "    <tr>\n",
       "      <th>24767</th>\n",
       "      <td>0.138443</td>\n",
       "      <td>0.440770</td>\n",
       "      <td>-0.153503</td>\n",
       "      <td>-0.859465</td>\n",
       "      <td>0.0</td>\n",
       "      <td>19.0</td>\n",
       "      <td>49.0</td>\n",
       "    </tr>\n",
       "    <tr>\n",
       "      <th>24768</th>\n",
       "      <td>0.147258</td>\n",
       "      <td>0.637612</td>\n",
       "      <td>-0.170693</td>\n",
       "      <td>-1.196209</td>\n",
       "      <td>1.0</td>\n",
       "      <td>19.0</td>\n",
       "      <td>49.0</td>\n",
       "    </tr>\n",
       "    <tr>\n",
       "      <th>24769</th>\n",
       "      <td>0.160011</td>\n",
       "      <td>0.445060</td>\n",
       "      <td>-0.194617</td>\n",
       "      <td>-0.961519</td>\n",
       "      <td>0.0</td>\n",
       "      <td>19.0</td>\n",
       "      <td>49.0</td>\n",
       "    </tr>\n",
       "    <tr>\n",
       "      <th>24770</th>\n",
       "      <td>0.168912</td>\n",
       "      <td>0.642189</td>\n",
       "      <td>-0.213847</td>\n",
       "      <td>-1.308488</td>\n",
       "      <td>1.0</td>\n",
       "      <td>19.0</td>\n",
       "      <td>49.0</td>\n",
       "    </tr>\n",
       "  </tbody>\n",
       "</table>\n",
       "<p>24771 rows × 7 columns</p>\n",
       "</div>"
      ],
      "text/plain": [
       "       Cart Position  Cart Velocity  Pole Angle  Pole Angular Velocity  \\\n",
       "0           0.027273       0.188478    0.036255              -0.261420   \n",
       "1           0.031043       0.383064    0.031026              -0.542451   \n",
       "2           0.038704       0.577736    0.020177              -0.825199   \n",
       "3           0.050259       0.382344    0.003673              -0.526239   \n",
       "4           0.057906       0.187171   -0.006852              -0.232401   \n",
       "...              ...            ...         ...                    ...   \n",
       "24766       0.125764       0.633944   -0.131339              -1.108228   \n",
       "24767       0.138443       0.440770   -0.153503              -0.859465   \n",
       "24768       0.147258       0.637612   -0.170693              -1.196209   \n",
       "24769       0.160011       0.445060   -0.194617              -0.961519   \n",
       "24770       0.168912       0.642189   -0.213847              -1.308488   \n",
       "\n",
       "       Action  Reward  Try Index  \n",
       "0         1.0    35.0       49.0  \n",
       "1         1.0    35.0       49.0  \n",
       "2         1.0    35.0       49.0  \n",
       "3         0.0    35.0       49.0  \n",
       "4         0.0    35.0       49.0  \n",
       "...       ...     ...        ...  \n",
       "24766     1.0    19.0       49.0  \n",
       "24767     0.0    19.0       49.0  \n",
       "24768     1.0    19.0       49.0  \n",
       "24769     0.0    19.0       49.0  \n",
       "24770     1.0    19.0       49.0  \n",
       "\n",
       "[24771 rows x 7 columns]"
      ]
     },
     "execution_count": 85,
     "metadata": {},
     "output_type": "execute_result"
    }
   ],
   "source": [
    "result"
   ]
  },
  {
   "cell_type": "code",
   "execution_count": 86,
   "metadata": {},
   "outputs": [
    {
     "data": {
      "text/plain": [
       "count    24771.000000\n",
       "mean        21.197691\n",
       "std          5.233579\n",
       "min         13.000000\n",
       "25%         17.000000\n",
       "50%         19.000000\n",
       "75%         22.000000\n",
       "max         38.000000\n",
       "Name: Reward, dtype: float64"
      ]
     },
     "execution_count": 86,
     "metadata": {},
     "output_type": "execute_result"
    }
   ],
   "source": [
    "result['Reward'].describe()"
   ]
  },
  {
   "cell_type": "code",
   "execution_count": null,
   "metadata": {},
   "outputs": [],
   "source": []
  }
 ],
 "metadata": {
  "interpreter": {
   "hash": "615a5c1fc5be143f08de67db04dbf381ed2e0183e653ae0904229919355dbaa0"
  },
  "kernelspec": {
   "display_name": "Python 3.10.2 ('venv': venv)",
   "language": "python",
   "name": "python3"
  },
  "language_info": {
   "codemirror_mode": {
    "name": "ipython",
    "version": 3
   },
   "file_extension": ".py",
   "mimetype": "text/x-python",
   "name": "python",
   "nbconvert_exporter": "python",
   "pygments_lexer": "ipython3",
   "version": "3.10.2"
  },
  "orig_nbformat": 4
 },
 "nbformat": 4,
 "nbformat_minor": 2
}
